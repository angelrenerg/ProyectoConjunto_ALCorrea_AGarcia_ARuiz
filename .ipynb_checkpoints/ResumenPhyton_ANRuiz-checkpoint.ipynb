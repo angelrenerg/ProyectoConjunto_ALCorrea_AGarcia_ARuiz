{
 "cells": [
  {
   "cell_type": "code",
   "execution_count": 1,
   "metadata": {},
   "outputs": [
    {
     "name": "stdout",
     "output_type": "stream",
     "text": [
      "Este es el resumen de Ángel\n"
     ]
    }
   ],
   "source": [
    "print (\"Este es el resumen de Ángel\")"
   ]
  },
  {
   "cell_type": "markdown",
   "metadata": {},
   "source": [
    "### Phyton tiene palabras reservadas y son estás, Las pondré comentadas en código."
   ]
  },
  {
   "cell_type": "code",
   "execution_count": 2,
   "metadata": {
    "collapsed": true
   },
   "outputs": [],
   "source": [
    "#and\n",
    "#assert\n",
    "#break\n",
    "#class\n",
    "#continue\n",
    "#def\n",
    "#del\n",
    "#elif\n",
    "#else\n",
    "#except\n",
    "#exec\n",
    "#finally\n",
    "#for\n",
    "#from\n",
    "#global\n",
    "#if\n",
    "#import\n",
    "#in\n",
    "#is\n",
    "#lambda\n",
    "#not\n",
    "#or\n",
    "#pass\n",
    "#print\n",
    "#raise\n",
    "#return\n",
    "#try\n",
    "#while\n",
    "#with\n",
    "#yield"
   ]
  },
  {
   "cell_type": "markdown",
   "metadata": {},
   "source": [
    "El uso de comillas es necesario."
   ]
  },
  {
   "cell_type": "code",
   "execution_count": 9,
   "metadata": {
    "collapsed": true
   },
   "outputs": [],
   "source": [
    "palabra = 'palabra'\n",
    "enunciado = \"enunciado\"\n",
    "parrafo = \"\"\"Esto es un parrafo. Y esta formado por varias lineas y enunciados.\"\"\""
   ]
  },
  {
   "cell_type": "code",
   "execution_count": 10,
   "metadata": {},
   "outputs": [
    {
     "name": "stdout",
     "output_type": "stream",
     "text": [
      "palabra\n",
      "enunciado\n",
      "Esto es un parrafo. Y esta formado por varias lineas y enunciados.\n"
     ]
    }
   ],
   "source": [
    "print(palabra)\n",
    "print(enunciado)\n",
    "print(parrafo)"
   ]
  },
  {
   "cell_type": "markdown",
   "metadata": {},
   "source": [
    "El usuario puede responder "
   ]
  },
  {
   "cell_type": "code",
   "execution_count": 38,
   "metadata": {
    "collapsed": true
   },
   "outputs": [],
   "source": [
    "hola=(input)"
   ]
  },
  {
   "cell_type": "code",
   "execution_count": 39,
   "metadata": {},
   "outputs": [
    {
     "name": "stdout",
     "output_type": "stream",
     "text": [
      "Como te llamas?\n"
     ]
    },
    {
     "ename": "SyntaxError",
     "evalue": "unexpected EOF while parsing (<string>, line 0)",
     "output_type": "error",
     "traceback": [
      "\u001b[0;36m  File \u001b[0;32m\"<string>\"\u001b[0;36m, line \u001b[0;32munknown\u001b[0m\n\u001b[0;31m    \u001b[0m\n\u001b[0m    ^\u001b[0m\n\u001b[0;31mSyntaxError\u001b[0m\u001b[0;31m:\u001b[0m unexpected EOF while parsing\n"
     ]
    }
   ],
   "source": [
    "hola(\"Como te llamas?\")"
   ]
  },
  {
   "cell_type": "markdown",
   "metadata": {},
   "source": [
    "\n",
    "Definir varias variables "
   ]
  },
  {
   "cell_type": "code",
   "execution_count": 40,
   "metadata": {
    "collapsed": true
   },
   "outputs": [],
   "source": [
    "\n",
    "x = 1; y = 35; z = x +y"
   ]
  },
  {
   "cell_type": "code",
   "execution_count": 37,
   "metadata": {},
   "outputs": [
    {
     "data": {
      "text/plain": [
       "71"
      ]
     },
     "execution_count": 37,
     "metadata": {},
     "output_type": "execute_result"
    }
   ],
   "source": [
    "z+y"
   ]
  },
  {
   "cell_type": "markdown",
   "metadata": {
    "collapsed": true
   },
   "source": [
    " >Listas\n",
    "\n",
    "    Las listas son herramientas que almacenan tipos de datos separados por comas (\",\") y encerrados dentro de un corchete ([])."
   ]
  },
  {
   "cell_type": "markdown",
   "metadata": {},
   "source": [
    "> Operaciones más habituales con listas en Python\n",
    "\n",
    "> Las operaciones más habituales que se realizan en Python son las siguientes:\n",
    ">   - `lista[i]`: Devuelve el elemento que está en la posición i de la lista.\n",
    ">   - `lista.pop(i)`: Devuelve el elemento en la posición i de una lista y luego lo borra.\n",
    ">   - `lista.append(elemento)`: Añade elemento al final de la lista.\n",
    ">   - `lista.insert(i, elemento)`: Inserta elemento en la posición i.\n",
    ">   - `lista.extend(lista2)`: Fusiona lista con lista2.\n",
    ">   - `lista.remove(elemento)`: Elimina la primera vez que aparece elemento.\n",
    "\n"
   ]
  },
  {
   "cell_type": "code",
   "execution_count": 4,
   "metadata": {},
   "outputs": [
    {
     "name": "stdout",
     "output_type": "stream",
     "text": [
      "['Angel', 24, 87, 54165, 6768, 'Simulacion', 'logica']\n",
      "87\n",
      "[24, 87, 54165, 6768, 'Simulacion', 'logica']\n",
      "['Voy solo', 24, 87, 54165, 6768, 'Simulacion', 'logica']\n"
     ]
    }
   ],
   "source": [
    "lista1=['Angel',24,87,54165,6768,'Simulacion','logica']\n",
    "print(lista1)\n",
    "print(lista1[2])\n",
    "lista1.pop(0)\n",
    "print(lista1)\n",
    "lista1.insert(0,'Voy solo')\n",
    "print(lista1)"
   ]
  },
  {
   "cell_type": "markdown",
   "metadata": {},
   "source": [
    "- ### Tuplas\n",
    "\n",
    "    Las tuplas son otras secuencia de datos simulares a las listas. Una tupla consiste de número de valores separados por comas (',') y deben de ser escritas dentro de paréntesis ('()'). A diferencia de las listas, las tuplas no pueden ser actualizadas (modificadas)."
   ]
  },
  {
   "cell_type": "code",
   "execution_count": 10,
   "metadata": {},
   "outputs": [
    {
     "name": "stdout",
     "output_type": "stream",
     "text": [
      "('solo', 876, 543, 7, 8, 5, 2, 3, 1, 'hola')\n",
      "('solo', 876, 543)\n",
      "(7, 8, 5, 2, 3, 1, 'hola')\n",
      "('solo', 876, 543, 7, 8, 5, 2, 3, 1, 'hola', 'jaja', 3)\n"
     ]
    }
   ],
   "source": [
    "tupla1=('solo',876,543,7,8,5,2,3,1,'hola')\n",
    "print(tupla1)\n",
    "print(tupla1[:3])\n",
    "print(tupla1[3:])\n",
    "print(tupla1+('jaja',3))"
   ]
  },
  {
   "cell_type": "markdown",
   "metadata": {},
   "source": [
    "- ## Diccionarios\n",
    "    Se crean poniendo sus elementos entre llaves {“a”:”Alicante”, “b”:”Barcelona”,>>>}. Se denominan keys a las “palabras” y values a las “definiciones”.  Lógicamente, no puede haber dos keys iguales, aunque sí dos values iguales."
   ]
  },
  {
   "cell_type": "code",
   "execution_count": 13,
   "metadata": {},
   "outputs": [
    {
     "name": "stdout",
     "output_type": "stream",
     "text": [
      "{'Raul': 'mi hijo', 'Andres': 'Mi otro hijo', 'Angel': 'Ganador'}\n",
      "Ganador\n",
      "mi hijo\n",
      "Mi otro hijo\n"
     ]
    }
   ],
   "source": [
    "diccionario={'Angel':\"Ganador\", 'Raul':'mi hijo', 'Andres':'Mi otro hijo'}\n",
    "print(diccionario)\n",
    "print(diccionario['Angel'])\n",
    "print(diccionario['Raul'])\n",
    "print(diccionario['Andres'])\n"
   ]
  },
  {
   "cell_type": "code",
   "execution_count": null,
   "metadata": {
    "collapsed": true
   },
   "outputs": [],
   "source": []
  }
 ],
 "metadata": {
  "kernelspec": {
   "display_name": "Python 2",
   "language": "python",
   "name": "python2"
  },
  "language_info": {
   "codemirror_mode": {
    "name": "ipython",
    "version": 2
   },
   "file_extension": ".py",
   "mimetype": "text/x-python",
   "name": "python",
   "nbconvert_exporter": "python",
   "pygments_lexer": "ipython2",
   "version": "2.7.13"
  }
 },
 "nbformat": 4,
 "nbformat_minor": 2
}
